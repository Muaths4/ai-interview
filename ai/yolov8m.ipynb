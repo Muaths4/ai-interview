{
 "cells": [
  {
   "cell_type": "code",
   "execution_count": 1,
   "metadata": {},
   "outputs": [
    {
     "name": "stdout",
     "output_type": "stream",
     "text": [
      "Requirement already satisfied: ultralytics in /Users/muathnazal/anaconda3/envs/seven_seg_env/lib/python3.9/site-packages (8.3.80)\n",
      "Requirement already satisfied: numpy<=2.1.1,>=1.23.0 in /Users/muathnazal/anaconda3/envs/seven_seg_env/lib/python3.9/site-packages (from ultralytics) (2.0.2)\n",
      "Requirement already satisfied: matplotlib>=3.3.0 in /Users/muathnazal/anaconda3/envs/seven_seg_env/lib/python3.9/site-packages (from ultralytics) (3.9.4)\n",
      "Requirement already satisfied: opencv-python>=4.6.0 in /Users/muathnazal/anaconda3/envs/seven_seg_env/lib/python3.9/site-packages (from ultralytics) (4.11.0.86)\n",
      "Requirement already satisfied: pillow>=7.1.2 in /Users/muathnazal/anaconda3/envs/seven_seg_env/lib/python3.9/site-packages (from ultralytics) (11.1.0)\n",
      "Requirement already satisfied: pyyaml>=5.3.1 in /Users/muathnazal/anaconda3/envs/seven_seg_env/lib/python3.9/site-packages (from ultralytics) (6.0.2)\n",
      "Requirement already satisfied: requests>=2.23.0 in /Users/muathnazal/anaconda3/envs/seven_seg_env/lib/python3.9/site-packages (from ultralytics) (2.32.3)\n",
      "Requirement already satisfied: scipy>=1.4.1 in /Users/muathnazal/anaconda3/envs/seven_seg_env/lib/python3.9/site-packages (from ultralytics) (1.13.1)\n",
      "Requirement already satisfied: torch>=1.8.0 in /Users/muathnazal/anaconda3/envs/seven_seg_env/lib/python3.9/site-packages (from ultralytics) (2.6.0)\n",
      "Requirement already satisfied: torchvision>=0.9.0 in /Users/muathnazal/anaconda3/envs/seven_seg_env/lib/python3.9/site-packages (from ultralytics) (0.21.0)\n",
      "Requirement already satisfied: tqdm>=4.64.0 in /Users/muathnazal/anaconda3/envs/seven_seg_env/lib/python3.9/site-packages (from ultralytics) (4.67.1)\n",
      "Requirement already satisfied: psutil in /Users/muathnazal/anaconda3/envs/seven_seg_env/lib/python3.9/site-packages (from ultralytics) (7.0.0)\n",
      "Requirement already satisfied: py-cpuinfo in /Users/muathnazal/anaconda3/envs/seven_seg_env/lib/python3.9/site-packages (from ultralytics) (9.0.0)\n",
      "Requirement already satisfied: pandas>=1.1.4 in /Users/muathnazal/anaconda3/envs/seven_seg_env/lib/python3.9/site-packages (from ultralytics) (2.2.3)\n",
      "Requirement already satisfied: seaborn>=0.11.0 in /Users/muathnazal/anaconda3/envs/seven_seg_env/lib/python3.9/site-packages (from ultralytics) (0.13.2)\n",
      "Requirement already satisfied: ultralytics-thop>=2.0.0 in /Users/muathnazal/anaconda3/envs/seven_seg_env/lib/python3.9/site-packages (from ultralytics) (2.0.14)\n",
      "Requirement already satisfied: contourpy>=1.0.1 in /Users/muathnazal/anaconda3/envs/seven_seg_env/lib/python3.9/site-packages (from matplotlib>=3.3.0->ultralytics) (1.3.0)\n",
      "Requirement already satisfied: cycler>=0.10 in /Users/muathnazal/anaconda3/envs/seven_seg_env/lib/python3.9/site-packages (from matplotlib>=3.3.0->ultralytics) (0.12.1)\n",
      "Requirement already satisfied: fonttools>=4.22.0 in /Users/muathnazal/anaconda3/envs/seven_seg_env/lib/python3.9/site-packages (from matplotlib>=3.3.0->ultralytics) (4.56.0)\n",
      "Requirement already satisfied: kiwisolver>=1.3.1 in /Users/muathnazal/anaconda3/envs/seven_seg_env/lib/python3.9/site-packages (from matplotlib>=3.3.0->ultralytics) (1.4.7)\n",
      "Requirement already satisfied: packaging>=20.0 in /Users/muathnazal/anaconda3/envs/seven_seg_env/lib/python3.9/site-packages (from matplotlib>=3.3.0->ultralytics) (24.2)\n",
      "Requirement already satisfied: pyparsing>=2.3.1 in /Users/muathnazal/anaconda3/envs/seven_seg_env/lib/python3.9/site-packages (from matplotlib>=3.3.0->ultralytics) (3.2.1)\n",
      "Requirement already satisfied: python-dateutil>=2.7 in /Users/muathnazal/anaconda3/envs/seven_seg_env/lib/python3.9/site-packages (from matplotlib>=3.3.0->ultralytics) (2.9.0.post0)\n",
      "Requirement already satisfied: importlib-resources>=3.2.0 in /Users/muathnazal/anaconda3/envs/seven_seg_env/lib/python3.9/site-packages (from matplotlib>=3.3.0->ultralytics) (6.5.2)\n",
      "Requirement already satisfied: pytz>=2020.1 in /Users/muathnazal/anaconda3/envs/seven_seg_env/lib/python3.9/site-packages (from pandas>=1.1.4->ultralytics) (2025.1)\n",
      "Requirement already satisfied: tzdata>=2022.7 in /Users/muathnazal/anaconda3/envs/seven_seg_env/lib/python3.9/site-packages (from pandas>=1.1.4->ultralytics) (2025.1)\n",
      "Requirement already satisfied: charset-normalizer<4,>=2 in /Users/muathnazal/anaconda3/envs/seven_seg_env/lib/python3.9/site-packages (from requests>=2.23.0->ultralytics) (3.4.1)\n",
      "Requirement already satisfied: idna<4,>=2.5 in /Users/muathnazal/anaconda3/envs/seven_seg_env/lib/python3.9/site-packages (from requests>=2.23.0->ultralytics) (3.10)\n",
      "Requirement already satisfied: urllib3<3,>=1.21.1 in /Users/muathnazal/anaconda3/envs/seven_seg_env/lib/python3.9/site-packages (from requests>=2.23.0->ultralytics) (2.3.0)\n",
      "Requirement already satisfied: certifi>=2017.4.17 in /Users/muathnazal/anaconda3/envs/seven_seg_env/lib/python3.9/site-packages (from requests>=2.23.0->ultralytics) (2025.1.31)\n",
      "Requirement already satisfied: filelock in /Users/muathnazal/anaconda3/envs/seven_seg_env/lib/python3.9/site-packages (from torch>=1.8.0->ultralytics) (3.17.0)\n",
      "Requirement already satisfied: typing-extensions>=4.10.0 in /Users/muathnazal/anaconda3/envs/seven_seg_env/lib/python3.9/site-packages (from torch>=1.8.0->ultralytics) (4.12.2)\n",
      "Requirement already satisfied: networkx in /Users/muathnazal/anaconda3/envs/seven_seg_env/lib/python3.9/site-packages (from torch>=1.8.0->ultralytics) (3.2.1)\n",
      "Requirement already satisfied: jinja2 in /Users/muathnazal/anaconda3/envs/seven_seg_env/lib/python3.9/site-packages (from torch>=1.8.0->ultralytics) (3.1.5)\n",
      "Requirement already satisfied: fsspec in /Users/muathnazal/anaconda3/envs/seven_seg_env/lib/python3.9/site-packages (from torch>=1.8.0->ultralytics) (2025.2.0)\n",
      "Requirement already satisfied: sympy==1.13.1 in /Users/muathnazal/anaconda3/envs/seven_seg_env/lib/python3.9/site-packages (from torch>=1.8.0->ultralytics) (1.13.1)\n",
      "Requirement already satisfied: mpmath<1.4,>=1.1.0 in /Users/muathnazal/anaconda3/envs/seven_seg_env/lib/python3.9/site-packages (from sympy==1.13.1->torch>=1.8.0->ultralytics) (1.3.0)\n",
      "Requirement already satisfied: zipp>=3.1.0 in /Users/muathnazal/anaconda3/envs/seven_seg_env/lib/python3.9/site-packages (from importlib-resources>=3.2.0->matplotlib>=3.3.0->ultralytics) (3.21.0)\n",
      "Requirement already satisfied: six>=1.5 in /Users/muathnazal/anaconda3/envs/seven_seg_env/lib/python3.9/site-packages (from python-dateutil>=2.7->matplotlib>=3.3.0->ultralytics) (1.17.0)\n",
      "Requirement already satisfied: MarkupSafe>=2.0 in /Users/muathnazal/anaconda3/envs/seven_seg_env/lib/python3.9/site-packages (from jinja2->torch>=1.8.0->ultralytics) (3.0.2)\n"
     ]
    }
   ],
   "source": [
    "!pip install ultralytics\n",
    "\n",
    "import torch\n",
    "import os\n",
    "import shutil\n",
    "import random\n",
    "from ultralytics import YOLO\n",
    "import cv2\n",
    "import numpy as np\n",
    "import matplotlib.pyplot as plt\n"
   ]
  },
  {
   "cell_type": "code",
   "execution_count": 2,
   "metadata": {},
   "outputs": [],
   "source": [
    "# Path of the dataset\n",
    "dataset_path = \"./dataset\""
   ]
  },
  {
   "cell_type": "code",
   "execution_count": 3,
   "metadata": {},
   "outputs": [],
   "source": [
    "# Check dataset structure\n",
    "assert os.path.exists(os.path.join(dataset_path, \"data.yaml\")), \"data.yaml missing\"\n",
    "assert os.path.exists(os.path.join(dataset_path, \"train/images\")), \"Train images missing\"\n",
    "assert os.path.exists(os.path.join(dataset_path, \"valid/images\")), \"Validation images missing\"\n",
    "assert os.path.exists(os.path.join(dataset_path, \"test/images\")), \"Test images missing\""
   ]
  },
  {
   "cell_type": "code",
   "execution_count": 4,
   "metadata": {},
   "outputs": [],
   "source": [
    "augment_params = {\n",
    "    \"flipud\": 0.5,      # Vertical flip probability\n",
    "    \"fliplr\": 0.5,      # Horizontal flip probability\n",
    "    \"hsv_h\": 0.015,     # Hue variation\n",
    "    \"hsv_s\": 0.7,       # Saturation variation\n",
    "    \"hsv_v\": 0.4,       # Brightness variation\n",
    "    \"translate\": 0.1,   # Image translation\n",
    "    \"scale\": 0.5,       # Random scaling\n",
    "    \"mosaic\": 1.0,      # Use Mosaic augmentation\n",
    "    \"mixup\": 0.2        # Use MixUp augmentation\n",
    "}"
   ]
  },
  {
   "cell_type": "code",
   "execution_count": null,
   "metadata": {},
   "outputs": [],
   "source": [
    "model = YOLO(\"yolov8m.pt\")  # pre-trained YOLOv8m model\n",
    "\n",
    "# Train YOLOv8 with dataset_path\n",
    "model.train(\n",
    "    data=os.path.join(dataset_path, \"data.yaml\"),\n",
    "    epochs=100,          # Number of training epochs\n",
    "    imgsz=640,           # Image size\n",
    "    batch=16,            # Batch size\n",
    "    device=\"cuda\" if torch.cuda.is_available() else \"cpu\",  # Use GPU if available\n",
    "    workers=2,           # Number of CPU workers\n",
    "    augment=True,        # Set augmentation to true\n",
    "    **augment_params     # Pass augment_params\n",
    ")"
   ]
  }
 ],
 "metadata": {
  "kernelspec": {
   "display_name": "seven_seg_env",
   "language": "python",
   "name": "python3"
  },
  "language_info": {
   "codemirror_mode": {
    "name": "ipython",
    "version": 3
   },
   "file_extension": ".py",
   "mimetype": "text/x-python",
   "name": "python",
   "nbconvert_exporter": "python",
   "pygments_lexer": "ipython3",
   "version": "3.9.21"
  }
 },
 "nbformat": 4,
 "nbformat_minor": 2
}
