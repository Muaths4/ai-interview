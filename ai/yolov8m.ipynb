{
 "cells": [
  {
   "cell_type": "code",
   "execution_count": null,
   "metadata": {},
   "outputs": [],
   "source": [
    "!pip install ultralytics\n",
    "\n",
    "import torch\n",
    "import os\n",
    "import shutil\n",
    "import random\n",
    "from ultralytics import YOLO\n",
    "import cv2\n",
    "import numpy as np\n",
    "import matplotlib.pyplot as plt\n"
   ]
  },
  {
   "cell_type": "code",
   "execution_count": null,
   "metadata": {},
   "outputs": [],
   "source": [
    "# Path of the dataset\n",
    "dataset_path = \"./dataset\""
   ]
  },
  {
   "cell_type": "code",
   "execution_count": 11,
   "metadata": {},
   "outputs": [],
   "source": [
    "# Check dataset structure\n",
    "assert os.path.exists(os.path.join(dataset_path, \"data.yaml\")), \"data.yaml missing\"\n",
    "assert os.path.exists(os.path.join(dataset_path, \"train/images\")), \"Train images missing\"\n",
    "assert os.path.exists(os.path.join(dataset_path, \"valid/images\")), \"Validation images missing\"\n",
    "assert os.path.exists(os.path.join(dataset_path, \"test/images\")), \"Test images missing\""
   ]
  },
  {
   "cell_type": "code",
   "execution_count": 12,
   "metadata": {},
   "outputs": [],
   "source": [
    "augment_params = {\n",
    "    \"flipud\": 0.5,      # Vertical flip probability\n",
    "    \"fliplr\": 0.5,      # Horizontal flip probability\n",
    "    \"hsv_h\": 0.015,     # Hue variation\n",
    "    \"hsv_s\": 0.7,       # Saturation variation\n",
    "    \"hsv_v\": 0.4,       # Brightness variation\n",
    "    \"translate\": 0.1,   # Image translation\n",
    "    \"scale\": 0.5,       # Random scaling\n",
    "    \"mosaic\": 1.0,      # Use Mosaic augmentation\n",
    "    \"mixup\": 0.2        # Use MixUp augmentation\n",
    "}"
   ]
  }
 ],
 "metadata": {
  "kernelspec": {
   "display_name": "seven_seg_env",
   "language": "python",
   "name": "python3"
  },
  "language_info": {
   "codemirror_mode": {
    "name": "ipython",
    "version": 3
   },
   "file_extension": ".py",
   "mimetype": "text/x-python",
   "name": "python",
   "nbconvert_exporter": "python",
   "pygments_lexer": "ipython3",
   "version": "3.9.21"
  }
 },
 "nbformat": 4,
 "nbformat_minor": 2
}
