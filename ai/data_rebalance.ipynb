{
 "cells": [
  {
   "cell_type": "code",
   "execution_count": 5,
   "metadata": {},
   "outputs": [
    {
     "name": "stdout",
     "output_type": "stream",
     "text": [
      "Moved 56 images and labels to the test set!\n"
     ]
    }
   ],
   "source": [
    "import os\n",
    "import shutil\n",
    "import random\n",
    "\n",
    "# Set the paths to train, valid, and test\n",
    "dataset_path = \"./dataset\"\n",
    "train_path = os.path.join(dataset_path, \"train\")\n",
    "valid_path = os.path.join(dataset_path, \"valid\")\n",
    "test_path = os.path.join(dataset_path, \"test\")\n",
    "\n",
    "# Ensure test directories exist\n",
    "os.makedirs(os.path.join(test_path, \"images\"), exist_ok=True)\n",
    "os.makedirs(os.path.join(test_path, \"labels\"), exist_ok=True)\n",
    "\n",
    "# Get all images from TRAIN set\n",
    "image_files = sorted(os.listdir(os.path.join(train_path, \"images\")))\n",
    "label_files = sorted(os.listdir(os.path.join(train_path, \"labels\")))\n",
    "\n",
    "# Ensure images and labels match\n",
    "image_files = [img for img in image_files if img.lower().endswith(('.jpg', '.png', '.jpeg'))]\n",
    "label_files = [lbl for lbl in label_files if lbl.lower().endswith('.txt')]\n",
    "\n",
    "# Shuffle data\n",
    "random.shuffle(image_files)\n",
    "\n",
    "# Split sizes\n",
    "total_images = len(image_files)\n",
    "test_size = int(total_images * 0.10)  # 10% for testing\n",
    "\n",
    "# Select test images and labels\n",
    "test_images = image_files[:test_size]\n",
    "test_labels = [img.replace(\".jpg\", \".txt\").replace(\".png\", \".txt\").replace(\".jpeg\", \".txt\") for img in test_images]\n",
    "\n",
    "# Move files to test set\n",
    "for img, lbl in zip(test_images, test_labels):\n",
    "    shutil.move(os.path.join(train_path, \"images\", img), os.path.join(test_path, \"images\", img))\n",
    "    shutil.move(os.path.join(train_path, \"labels\", lbl), os.path.join(test_path, \"labels\", lbl))\n",
    "\n",
    "print(f\"Moved {test_size} images and labels to the test set!\") "
   ]
  }
 ],
 "metadata": {
  "kernelspec": {
   "display_name": "seven_seg_env",
   "language": "python",
   "name": "python3"
  },
  "language_info": {
   "codemirror_mode": {
    "name": "ipython",
    "version": 3
   },
   "file_extension": ".py",
   "mimetype": "text/x-python",
   "name": "python",
   "nbconvert_exporter": "python",
   "pygments_lexer": "ipython3",
   "version": "3.9.21"
  }
 },
 "nbformat": 4,
 "nbformat_minor": 2
}
